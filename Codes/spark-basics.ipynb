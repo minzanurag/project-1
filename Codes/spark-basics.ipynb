{
 "cells": [
  {
   "cell_type": "code",
   "execution_count": 1,
   "id": "c07563af-9d86-498c-8fe1-96c53cba0832",
   "metadata": {},
   "outputs": [],
   "source": [
    "from pyspark.sql import SparkSession\n",
    "import os, platform, sys"
   ]
  },
  {
   "cell_type": "code",
   "execution_count": 2,
   "id": "0c05fc83-4bcf-4aa6-abf0-0672b101c6d5",
   "metadata": {},
   "outputs": [],
   "source": [
    "\n",
    "def getSpark():\n",
    "    machine = os.getenv(\"HOSTNAME\")\n",
    "    keytab = os.getenv(\"KEYTAB\")\n",
    "    principal = os.getenv(\"PRINCIPAL\")\n",
    "    os.environ[\"PYSPARK_PYTHON\"] = \"./environment/bin/python\"\n",
    " \n",
    "    #Platform specific settings\n",
    "    if platform.system() == \"Windows\":\n",
    "        krb5 = os.getenv(\"KRB5_CONFIG_JAVA\")\n",
    "    else:\n",
    "        krb5 = os.getenv(\"KRB5_CONFIG\")\n",
    "         \n",
    "    #Python version settings, this allows us to target an executor environment to match our driver\n",
    "    pyspark_deps = f\"hdfs:///user/spark/libs/environments/pyspark{sys.version_info.major}{sys.version_info.minor}-deps/environment.tar.gz#environment\"\n",
    " \n",
    "    return SparkSession.builder \\\n",
    "        .appName(f\"MagellanJupyterSpark-{machine}\") \\\n",
    "        .enableHiveSupport() \\\n",
    "        .master(\"yarn\") \\\n",
    "        .config(\"spark.yarn.keytab\", keytab) \\\n",
    "        .config(\"spark.yarn.principal\", principal) \\\n",
    "        .config(\"spark.driver.extraJavaOptions\", f\"-Djava.security.krb5.conf={krb5}\") \\\n",
    "        .config(\"spark.yarn.dist.archives\", pyspark_deps) \\\n",
    "        .config(\"spark.jars\", \"hdfs:///user/spark/libs/extensions/spark-utils/spark-utils-0.0.3-SNAPSHOT.jar\") \\\n",
    "        .getOrCreate()"
   ]
  },
  {
   "cell_type": "code",
   "execution_count": 4,
   "id": "0bcf2fd3-cbfa-42c7-a9b3-019f0c3085c5",
   "metadata": {},
   "outputs": [],
   "source": [
    "spark = getSpark()"
   ]
  },
  {
   "cell_type": "markdown",
   "id": "72448001-936d-4a26-a102-27346b11ca47",
   "metadata": {},
   "source": [
    "# Target Data"
   ]
  },
  {
   "cell_type": "code",
   "execution_count": 8,
   "id": "b8bd959a-9129-49a6-b743-fda287dbd57d",
   "metadata": {},
   "outputs": [],
   "source": [
    "df_bmw = spark.sql('SELECT * from bdddaires01p.civs_bmw_non_health limit 10')"
   ]
  },
  {
   "cell_type": "code",
   "execution_count": 48,
   "id": "82952e4f-6341-4d1a-b9d6-ca5e27d6a5d7",
   "metadata": {},
   "outputs": [],
   "source": [
    "# Worked \n",
    "# df_bmw.show()"
   ]
  },
  {
   "cell_type": "code",
   "execution_count": 9,
   "id": "2d1cdd6f-0498-4901-86d5-f448dec2d583",
   "metadata": {},
   "outputs": [],
   "source": [
    "df_cpm = spark.sql('SELECT * from bdddaires01p.civs_cpm_non_health_cases limit 10')"
   ]
  },
  {
   "cell_type": "code",
   "execution_count": 47,
   "id": "6325235b-d97b-4815-9c95-7892a854c139",
   "metadata": {},
   "outputs": [],
   "source": [
    "# Worked\n",
    "# df_cpm.show()"
   ]
  },
  {
   "cell_type": "code",
   "execution_count": 14,
   "id": "268a63ad-cf02-41f6-ab12-538bd4ea4c27",
   "metadata": {},
   "outputs": [],
   "source": [
    "df_fms = spark.sql('SELECT * from bdsfms01p.fms_fraudmaster_ss limit 10')"
   ]
  },
  {
   "cell_type": "code",
   "execution_count": 46,
   "id": "ef5286f2-7201-41ca-8702-e8ca5cdc0441",
   "metadata": {},
   "outputs": [],
   "source": [
    "# Worked\n",
    "# df_fms.show()"
   ]
  },
  {
   "cell_type": "code",
   "execution_count": 36,
   "id": "2b4181ec-818c-45af-b711-143958e58aa4",
   "metadata": {},
   "outputs": [],
   "source": [
    "df_payee = spark.sql(\"Select * from bdsfms01p.fms_paidawaydetail_ss where edi_business_day = '2022-01-31' limit 10\")"
   ]
  },
  {
   "cell_type": "code",
   "execution_count": 51,
   "id": "28c20d68-a043-4220-9d9d-f8617c10e063",
   "metadata": {},
   "outputs": [],
   "source": [
    "# Worked\n",
    "# df_payee.show()"
   ]
  },
  {
   "cell_type": "markdown",
   "id": "efefaf18-61e6-4d64-94a9-b79034053b0e",
   "metadata": {},
   "source": [
    "# MIMO Data"
   ]
  },
  {
   "cell_type": "code",
   "execution_count": 4,
   "id": "bd56fd45-2226-4aff-bd9d-b277c5ef2392",
   "metadata": {},
   "outputs": [],
   "source": [
    "df_mimo = spark.sql(\"Select * from bddmimo01p.gofcoe_base_trans_cat where posted_date > '2022-02-01' and posted_date < '2022-03-03'  limit 10\")"
   ]
  },
  {
   "cell_type": "code",
   "execution_count": 5,
   "id": "8c289f7c-5dad-4d92-b039-b9548d3e72ca",
   "metadata": {},
   "outputs": [
    {
     "name": "stdout",
     "output_type": "stream",
     "text": [
      "+--------------+---------+----------------+-----------+---------------------+--------------------+--------+-----------------+-----------+-----+-------+----------------+---------------+--------+--------------------+----------------+-----------+\n",
      "|transaction_id|agrmnt_id|transaction_type|     amount|transaction_narrative|     clean_narrative|brand_id|       brand_name|     stg_Id|  mcc| tier_1|          tier_2|         tier_3|fca_code|        fca_category|transaction_date|posted_date|\n",
      "+--------------+---------+----------------+-----------+---------------------+--------------------+--------+-----------------+-----------+-----+-------+----------------+---------------+--------+--------------------+----------------+-----------+\n",
      "|  103921898907|117612943|             EBP|    -157.91| SOPHIE LATHAM CLA...|SOPHIE LATHAM CLA...|   88164|LENDING WORKS LTD|DPC_S2_1068|20016|Finance|            Loan|               |    2001|Committed Expendi...|      2022-02-07| 2022-02-07|\n",
      "|  103921902083|117612943|             EBP|      -7.13| OWEN TUCKER CLA 2...|OWEN TUCKER CLA 2...|   88164|LENDING WORKS LTD|DPC_S2_1068|20016|Finance|            Loan|               |    2001|Committed Expendi...|      2022-02-07| 2022-02-07|\n",
      "|  103959127914|114639552|             DPC|     -105.0| JESSE DIESEL VIA ...|JESSE DIESEL     ...|     829|              SSE| DPC_S2_306|20041|  Bills|      Utilities |Gas&Electricity|    2002|Basic Essential E...|      2022-02-07| 2022-02-07|\n",
      "|  103940370902|126047145|             EBP|-11548.2002| ROODLANE MEDICAL ...|ROODLANE MEDICAL ...|     829|              SSE| DPC_S2_306|20041|  Bills|      Utilities |Gas&Electricity|    2002|Basic Essential E...|      2022-02-07| 2022-02-07|\n",
      "|  103901127874| 96324514|             EBP|   -44000.0| CARCESSORIES LIM ...|CARCESSORIES LIM ...|   85133|      ULSTER BANK| DPC_S2_738|20098|Finance|Transfer/Payment|        General|    2002|Basic Essential E...|      2022-02-07| 2022-02-07|\n",
      "|  103902226888|248611134|             DPC|      -0.01| IE84ULSB985575100...|IE84ULSB985575100...|     592|          NATWEST| DPC_S2_220|20098|Finance|Transfer/Payment|        General|    2002|Basic Essential E...|      2022-02-07| 2022-02-07|\n",
      "|  103978757958|101538538|             DPC|     -500.0| ACC-NWESTBLACK 54...|ACC-NWESTBLACK 54...|     592|          NATWEST| DPC_S2_218|20019|Finance|    Credit Cards|               |    2005|             Unknown|      2022-02-07| 2022-02-07|\n",
      "|  103924824728|113483389|             DPC|   -20000.0| NATWEST INVEST 21...|NATWEST INVEST 21...|     592|          NATWEST| DPC_S2_217|20018|Finance|        Mortgage|               |    2001|Committed Expendi...|      2022-02-07| 2022-02-07|\n",
      "|  103977101162|282154764|             DPC|     -700.0| MALU NATWEST MEEE...|MALU NATWEST MEEE...|     592|          NATWEST| DPC_S2_220|20098|Finance|Transfer/Payment|        General|    2002|Basic Essential E...|      2022-02-07| 2022-02-07|\n",
      "|  103983412375|305298709|             DPC|      -50.0| CHING MAN LO FROM...|CHING MAN LO FROM...|     592|          NATWEST| DPC_S2_220|20098|Finance|Transfer/Payment|        General|    2002|Basic Essential E...|      2022-02-07| 2022-02-07|\n",
      "+--------------+---------+----------------+-----------+---------------------+--------------------+--------+-----------------+-----------+-----+-------+----------------+---------------+--------+--------------------+----------------+-----------+\n",
      "\n"
     ]
    }
   ],
   "source": [
    "# >>>>>>> DID NOT WORK <<<<<<<\n",
    "df_mimo.show()"
   ]
  },
  {
   "cell_type": "markdown",
   "id": "e48c1137-890d-4c8c-bab2-574c77cb237b",
   "metadata": {},
   "source": [
    "# Feature Bank Data"
   ]
  },
  {
   "cell_type": "code",
   "execution_count": 90,
   "id": "552bb8c4-4789-4277-b4d1-c86337c6925a",
   "metadata": {},
   "outputs": [],
   "source": [
    "df_prty_sql = spark.sql(\"Select * from bdp_eas_uca_prd_fb.fb_prty_agrmnt_ss where edi_business_day>'2022-01-03' and edi_business_day<'2022-01-05'  limit 10\")"
   ]
  },
  {
   "cell_type": "code",
   "execution_count": 91,
   "id": "9b52c248-7d6a-4aa7-86b7-6d9f8d1cf1a4",
   "metadata": {},
   "outputs": [
    {
     "name": "stdout",
     "output_type": "stream",
     "text": [
      "+---------+---------+---------------------+-------------------+------------------------------+--------------------+---------------------+----------------------------+-----------+---------------------+-------------------+----------------+\n",
      "|  PRTY_ID|AGRMNT_ID|PRTY_AGRMNT_ROLE_CODE|AGRMNT_SUBTYPE_CODE|AGRMNT_XREF_SOURCE_SYSTEM_CODE|AGRMNT_BRANCH_NUMBER|AGRMNT_ACCOUNT_NUMBER|PRTY_XREF_SOURCE_DOMAIN_NAME|CUSTOMER_ID|AGRMNT_UNCLRD_BAL_AMT|AGRMNT_LDGR_BAL_AMT|edi_business_day|\n",
      "+---------+---------+---------------------+-------------------+------------------------------+--------------------+---------------------+----------------------------+-----------+---------------------+-------------------+----------------+\n",
      "|791867878|101514748|                  OWN|                MTA|                           ADB|          600118    |             46018719|                         CIN| 1547962586|                 null|             -42.28|      2022-01-04|\n",
      "|840498174| 90100984|                  AGC|                MOR|                           GMS|          830500    |             24629247|                        null|       null|           -136868.77|                0.0|      2022-01-04|\n",
      "|840512710|103332660|                  AGC|                SAV|                           ADB|          600637    |             13455915|                        null|       null|                 null|              -1.43|      2022-01-04|\n",
      "|840529990|157127742|                  AGC|                SAV|                           ADB|          601114    |             18799280|                        null|       null|                 null|              -1.35|      2022-01-04|\n",
      "|840595555|271701384|                  AGC|                MTA|                           ADB|          10061     |             20626762|                        null|       null|                 null|           -5805.48|      2022-01-04|\n",
      "|840581253|313836655|                  AGC|                MOR|                           GMS|          600657    |             84063051|                        null|       null|                  0.0|           150995.0|      2022-01-04|\n",
      "|845775736|226093775|                  AGC|                MTA|                           ADB|          560046    |             37547127|                        null|       null|                 null|                0.0|      2022-01-04|\n",
      "|847009894|124051093|                  AGC|                MTA|                           ADB|          160015    |             23211656|                        null|       null|                 null|          -78547.17|      2022-01-04|\n",
      "|840615373|119235538|                  AGC|                SAV|                           ADB|          601842    |             20576579|                        null|       null|                 null|                0.0|      2022-01-04|\n",
      "|847264975|126949342|                  AGC|                MTA|                           ADB|          160079    |             19492354|                        null|       null|                 null|          -28643.13|      2022-01-04|\n",
      "+---------+---------+---------------------+-------------------+------------------------------+--------------------+---------------------+----------------------------+-----------+---------------------+-------------------+----------------+\n",
      "\n"
     ]
    }
   ],
   "source": [
    "# Worked\n",
    "df_prty_sql.show()"
   ]
  },
  {
   "cell_type": "code",
   "execution_count": 18,
   "id": "4b016176-6601-498a-affc-60cdc782ca90",
   "metadata": {},
   "outputs": [],
   "source": [
    "df_prty_cat = spark.sql(\"Select * from bdp_eas_uca_prd_fb.fb_prty_cat_part_ss where edi_business_day>'2022-01-03' and edi_business_day<'2022-01-05' limit 2\")"
   ]
  },
  {
   "cell_type": "code",
   "execution_count": 21,
   "id": "d5272c13-9f6e-4253-80c0-ea8cc22d0bbf",
   "metadata": {},
   "outputs": [],
   "source": [
    "# Worked\n",
    "# df_prty_cat.show()"
   ]
  },
  {
   "cell_type": "code",
   "execution_count": 27,
   "id": "dd637d80-7dd6-4938-a1b3-e681d742af1d",
   "metadata": {},
   "outputs": [],
   "source": [
    "df_agrmnt_cat = spark.sql(\"Select * from bdp_eas_uca_prd_fb.fb_agrmnt_cat_part_ss where edi_business_day>'2022-01-03' and edi_business_day<'2022-01-05' limit 10\")"
   ]
  },
  {
   "cell_type": "code",
   "execution_count": 29,
   "id": "dcf33409-33db-413c-9aeb-9dc9c8964d1d",
   "metadata": {},
   "outputs": [],
   "source": [
    "# Worked\n",
    "# df_agrmnt_cat.show() "
   ]
  },
  {
   "cell_type": "markdown",
   "id": "30b2a7e0-1b1c-4795-bb7e-470179940059",
   "metadata": {},
   "source": [
    "# Verint Data"
   ]
  },
  {
   "cell_type": "code",
   "execution_count": 86,
   "id": "5c0cc967-1c60-4e89-9d05-cbf82999a907",
   "metadata": {},
   "outputs": [],
   "source": [
    "df_verint = spark.sql(\"Select * from bdsver01p.ver_custom_sa_metadata_hst where edi_business_day >'2021-02-09' and edi_business_day<'2021-02-15' limit 10\")\n",
    "# df_verint = spark.sql(\"Select * from bdwver01p.ver_custom_sa_metadata where edi_business_day >'2022-02-01' and edi_business_day<'2022-02-05' limit 10\")\n",
    "\n",
    "df_verint1 = spark.sql(\"Select * from bdscis01p.cis_vw_partitioned_fct_call_detail_end_ss where edi_business_day >'2021-01-02' and edi_business_day<'2021-01-10'  limit 10\")\n",
    "# df_verint1 = spark.sql(\"Select * from bdwcis01p.cis_vw_partitioned_fct_call_detail_end where edi_business_day >'2021-06-06' and edi_business_day<'2021-06-07'  limit 10\")\n",
    "\n",
    "df_verint2 = spark.sql(\"Select * from bdscis01p.cis_vw_partitioned_fct_call_detail_leg_ss where edi_business_day >'2021-01-02' and edi_business_day<'2021-01-10' limit 10\")\n",
    "# df_verint2 = spark.sql(\"Select * from bdwcis01p.cis_vw_partitioned_fct_call_detail_leg  limit 10\")"
   ]
  },
  {
   "cell_type": "code",
   "execution_count": 88,
   "id": "fd289b35-1818-48bd-a0fe-fa4caab3c44b",
   "metadata": {},
   "outputs": [],
   "source": [
    "# Not working in SH DB\n",
    "# df_verint.show()\n",
    "\n",
    "# Working using EAS_RAW DB and shows data also\n",
    "# df_verint.show()"
   ]
  },
  {
   "cell_type": "code",
   "execution_count": 78,
   "id": "253e97e7-4d6a-4c75-8c99-307cd90c0bb8",
   "metadata": {},
   "outputs": [],
   "source": [
    "# Works on SH\n",
    "# df_verint1.show()\n",
    "\n",
    "# Working using EAS_RAW DB and shows data also\n",
    "# df_verint1.show()"
   ]
  },
  {
   "cell_type": "code",
   "execution_count": 80,
   "id": "dd514419-c054-4126-aa6f-72c9f5c97780",
   "metadata": {},
   "outputs": [],
   "source": [
    "# Works on SH\n",
    "# df_verint2.show()\n",
    "\n",
    "# Working using EAS_RAW DB and shows data also\n",
    "# df_verint2.show()"
   ]
  },
  {
   "cell_type": "markdown",
   "id": "c24fba0b-b217-4e74-8a17-6eae6fcf524b",
   "metadata": {},
   "source": [
    "# Complaints"
   ]
  },
  {
   "cell_type": "code",
   "execution_count": 69,
   "id": "a4a9d756-4351-479f-bbf7-bf7aee9d62bf",
   "metadata": {},
   "outputs": [],
   "source": [
    "# No Access\n",
    "df_complaints = spark.sql(\"Select * from bdspnx01p.pnx_dim_case_ss limit 10\")\n",
    "\n",
    "# As this data is present in EAS_RAW as well. Trying it from EAS_RAW FS\n",
    "# df_complaints = spark.sql(\"Select * from bdwpnx01p.pnx_dim_case limit 10\")"
   ]
  },
  {
   "cell_type": "code",
   "execution_count": 89,
   "id": "19386398-6261-4967-b15f-423f7db20e7b",
   "metadata": {},
   "outputs": [],
   "source": [
    "# Worked when using from SH DB\n",
    "# df_complaints.show()\n",
    "\n",
    "# Worked when using from EAS_RAW DB \n",
    "# df_complaints.show()"
   ]
  },
  {
   "cell_type": "markdown",
   "id": "91fabf48-617d-4f5c-9c0d-50e55561fac7",
   "metadata": {},
   "source": [
    "# Webchats/Messaging"
   ]
  },
  {
   "cell_type": "code",
   "execution_count": 5,
   "id": "83727990-9cf2-493b-a370-cb29bb42ca3b",
   "metadata": {},
   "outputs": [],
   "source": [
    "df_msg = spark.sql(\"Select * from bddpbrc01p.intx_messaging_kv_sdes_events limit 10\")\n",
    "\n",
    "df_wb = spark.sql(\"Select * from bddpbrc01p.intx_webchat_kv_sdes where crt_dt > '2022-01-14' and crt_dt < '2022-01-29' limit 10\")\n",
    "\n",
    "df_wb = spark.sql(\"Select * from bddpbrc01p.intx_webchat_kv_transcript where crt_dt > '2022-01-14' and crt_dt < '2022-01-29' limit 10\")"
   ]
  },
  {
   "cell_type": "code",
   "execution_count": null,
   "id": "c68359a4-b7a7-4f4c-bf91-b4fadbf6dbc9",
   "metadata": {},
   "outputs": [],
   "source": [
    "# Working\n",
    "# df_msg.show()"
   ]
  },
  {
   "cell_type": "code",
   "execution_count": 6,
   "id": "6b5e1f92-27a6-4757-b465-ca914b3a6c06",
   "metadata": {},
   "outputs": [   ],
   "source": [
    "# Working \n",
    "df_wb.show()"
   ]
  },
  {
   "cell_type": "markdown",
   "id": "0b5a560f-de91-46ea-9528-0ee9ac50d420",
   "metadata": {},
   "source": [
    "# Clicks"
   ]
  },
  {
   "cell_type": "code",
   "execution_count": 35,
   "id": "a4c545e3-cdd6-42cd-b7ea-9d5a36d4ed17",
   "metadata": {},
   "outputs": [],
   "source": [
    "df_clicks = spark.sql(\"Select * from bdsabe01p.abe_hits where edi_business_day > '2022-01-22' and edi_business_day < '2022-01-28' limit 10\")"
   ]
  },
  {
   "cell_type": "code",
   "execution_count": 37,
   "id": "390b161f-721e-4a26-922d-912111b982bd",
   "metadata": {},
   "outputs": [],
   "source": [
    "# Working with date partition\n",
    "# df_clicks.show()"
   ]
  },
  {
   "cell_type": "code",
   "execution_count": 93,
   "id": "fd164e98-cd04-453f-8b68-6c94286b3cc7",
   "metadata": {},
   "outputs": [],
   "source": [
    "df_prty_sql = spark.sql(\"Select * from bdddaires01p.test_civs_fb limit 10\")"
   ]
  },
  {
   "cell_type": "code",
   "execution_count": 94,
   "id": "da7712d9-88f3-47d0-93a3-c98c87d8943e",
   "metadata": {},
   "outputs": [
    {
     "name": "stdout",
     "output_type": "stream",
     "text": [
      "+---------+---------------------------------+-----------------------------------------+-------------------------------------+----------------------------------+--------------------------------------+------------------------------------+----------------+\n",
      "|  prty_id|all_agrmnts_all_accounts_count_v1|all_agrmnts_credit_card_accounts_count_v1|all_agrmnts_current_accounts_count_v1|all_agrmnts_loan_accounts_count_v1|all_agrmnts_mortgage_accounts_count_v1|all_agrmnts_saving_accounts_count_v1|edi_business_day|\n",
      "+---------+---------------------------------+-----------------------------------------+-------------------------------------+----------------------------------+--------------------------------------+------------------------------------+----------------+\n",
      "|837822921|                             null|                                     null|                                 null|                              null|                                  null|                                null|      2022-03-07|\n",
      "|837823081|                             null|                                     null|                                 null|                              null|                                  null|                                null|      2022-03-07|\n",
      "|837823247|                                1|                                        0|                                    1|                                 0|                                     0|                                   0|      2022-03-07|\n",
      "|837824015|                             null|                                     null|                                 null|                              null|                                  null|                                null|      2022-03-07|\n",
      "|837824204|                             null|                                     null|                                 null|                              null|                                  null|                                null|      2022-03-07|\n",
      "|837824559|                                1|                                        0|                                    1|                                 0|                                     0|                                   0|      2022-03-07|\n",
      "|837824706|                             null|                                     null|                                 null|                              null|                                  null|                                null|      2022-03-07|\n",
      "|837824767|                                3|                                        0|                                    1|                                 0|                                     0|                                   2|      2022-03-07|\n",
      "|837824929|                                1|                                        0|                                    1|                                 0|                                     0|                                   0|      2022-03-07|\n",
      "|837828517|                                2|                                        0|                                    1|                                 0|                                     1|                                   0|      2022-03-07|\n",
      "+---------+---------------------------------+-----------------------------------------+-------------------------------------+----------------------------------+--------------------------------------+------------------------------------+----------------+\n",
      "\n"
     ]
    }
   ],
   "source": [
    "df_prty_sql.show()"
   ]
  }
 ],
 "metadata": {
  "kernelspec": {
   "display_name": "Python 3 (ipykernel)",
   "language": "python",
   "name": "python3"
  },
  "language_info": {
   "codemirror_mode": {
    "name": "ipython",
    "version": 3
   },
   "file_extension": ".py",
   "mimetype": "text/x-python",
   "name": "python",
   "nbconvert_exporter": "python",
   "pygments_lexer": "ipython3",
   "version": "3.7.11"
  }
 },
 "nbformat": 4,
 "nbformat_minor": 5
}
